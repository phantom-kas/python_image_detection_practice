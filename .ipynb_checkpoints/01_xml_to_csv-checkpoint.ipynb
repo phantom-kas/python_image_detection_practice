{
 "cells": [
  {
   "cell_type": "code",
   "execution_count": 15,
   "id": "9657f260",
   "metadata": {},
   "outputs": [
    {
     "ename": "NameError",
     "evalue": "name 'false' is not defined",
     "output_type": "error",
     "traceback": [
      "\u001b[1;31m---------------------------------------------------------------------------\u001b[0m",
      "\u001b[1;31mNameError\u001b[0m                                 Traceback (most recent call last)",
      "Cell \u001b[1;32mIn[15], line 25\u001b[0m\n\u001b[0;32m     23\u001b[0m df \u001b[38;5;241m=\u001b[39m pd\u001b[38;5;241m.\u001b[39mDataFrame(label_dic)\n\u001b[0;32m     24\u001b[0m df\n\u001b[1;32m---> 25\u001b[0m df\u001b[38;5;241m.\u001b[39mto_csv(\u001b[38;5;124m\"\u001b[39m\u001b[38;5;124mlabel.csv\u001b[39m\u001b[38;5;124m\"\u001b[39m,index\u001b[38;5;241m=\u001b[39mfalse)\n",
      "\u001b[1;31mNameError\u001b[0m: name 'false' is not defined"
     ]
    }
   ],
   "source": [
    "import xml.etree.ElementTree as Et\n",
    "import pandas as pd\n",
    "from glob import glob\n",
    "\n",
    "path = glob(\"./learning_imgs/*.xml\")\n",
    "\n",
    "label_dic = dict(filepath=[],xmin=[],ymin=[],xmax=[],ymax=[])\n",
    "\n",
    "for fileName in path:\n",
    "    info = Et.parse(fileName)\n",
    "    root = info.getroot()\n",
    "    xmin = int(root[6][4][0].text)\n",
    "    ymin = int(root[6][4][1].text)\n",
    "    xmax = int(root[6][4][2].text)\n",
    "    ymax = int(root[6][4][3].text)\n",
    "    #print(xmin , ymin , xmax , ymax)\n",
    "    label_dic['filepath'].append(fileName)\n",
    "    label_dic['xmin'].append(xmin)\n",
    "    label_dic['ymin'].append(ymin)\n",
    "    label_dic['xmax'].append(xmax)\n",
    "    label_dic['ymax'].append(ymax)\n",
    "    \n",
    "df = pd.DataFrame(label_dic)\n",
    "df\n",
    "df.to_csv(\"label.csv\",index=False)\n",
    "    "
   ]
  },
  {
   "cell_type": "code",
   "execution_count": null,
   "id": "4ea99dda",
   "metadata": {},
   "outputs": [],
   "source": []
  }
 ],
 "metadata": {
  "kernelspec": {
   "display_name": "Python 3 (ipykernel)",
   "language": "python",
   "name": "python3"
  },
  "language_info": {
   "codemirror_mode": {
    "name": "ipython",
    "version": 3
   },
   "file_extension": ".py",
   "mimetype": "text/x-python",
   "name": "python",
   "nbconvert_exporter": "python",
   "pygments_lexer": "ipython3",
   "version": "3.11.5"
  }
 },
 "nbformat": 4,
 "nbformat_minor": 5
}
